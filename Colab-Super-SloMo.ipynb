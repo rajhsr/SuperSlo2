{
  "nbformat": 4,
  "nbformat_minor": 0,
  "metadata": {
    "colab": {
      "name": "Colab-Super-SloMo.ipynb",
      "provenance": [],
      "private_outputs": true,
      "collapsed_sections": [],
      "toc_visible": true
    },
    "kernelspec": {
      "name": "python3",
      "display_name": "Python 3"
    },
    "accelerator": "GPU"
  },
  "cells": [
    {
      "cell_type": "markdown",
      "metadata": {
        "id": "3KUlO4oiA8CM",
        "colab_type": "text"
      },
      "source": [
        "# Slow Motion with Super SloMo\n",
        "\n",
        "This notebook uses [Super SloMo](https://arxiv.org/abs/1712.00080) from the open source project [avinashpaliwal/Super-SloMo](https://github.com/avinashpaliwal/Super-SloMo) to slow down a given video.\n",
        "\n",
        "This is a modification of [this Colab Notebook](https://colab.research.google.com/github/tugstugi/dl-colab-notebooks/blob/master/notebooks/SuperSloMo.ipynb#scrollTo=P7eRRjlYaV1s) by styler00dollar aka \"sudo rm -rf / --no-preserve-root#8353\" on discord.\n",
        "\n",
        "This version:\n",
        "- allows to use Google Drive for own videos\n",
        "- uses CRF inside the ffmpeg command for better space usage\n",
        "- custom ffmpeg command possible\n",
        "- includes experemental audio support\n",
        "- removes .mkv input restriction and supports different filetypes\n",
        "\n",
        "May be implemented:\n",
        "- different output format\n",
        "\n",
        "Interesting things:\n",
        "- Can do 1080p without crashing (Dain can only do ~900p with 16GB VRAM)\n",
        "- 1080p 6x works with Super-Slomo\n",
        "\n",
        "Simple Tutorial:\n",
        "- Run cells with these play-buttons that are visible on the left side of the code/text. ```[ ]``` indicate a play-button."
      ]
    },
    {
      "cell_type": "markdown",
      "metadata": {
        "id": "f6HvhIe5Xt0z",
        "colab_type": "text"
      },
      "source": [
        "# Check GPU"
      ]
    },
    {
      "cell_type": "code",
      "metadata": {
        "id": "2bMEfw4S8pBw",
        "colab_type": "code",
        "colab": {}
      },
      "source": [
        "!nvidia-smi"
      ],
      "execution_count": null,
      "outputs": []
    },
    {
      "cell_type": "code",
      "metadata": {
        "id": "4OAYywPHApuz",
        "colab_type": "code",
        "cellView": "form",
        "colab": {}
      },
      "source": [
        "#@markdown # Install avinashpaliwal/Super-SloMo\n",
        "import os\n",
        "from os.path import exists, join, basename, splitext, dirname\n",
        "\n",
        "git_repo_url = 'https://github.com/styler00dollar/Colab-Super-SloMo'\n",
        "project_name = splitext(basename(git_repo_url))[0]\n",
        "if not exists(project_name):\n",
        "  # clone and install dependencies\n",
        "  !git clone -q --depth 1 {git_repo_url}\n",
        "  !pip install -q youtube-dl\n",
        "  ffmpeg_path = !which ffmpeg\n",
        "  ffmpeg_path = dirname(ffmpeg_path[0])\n",
        "  \n",
        "import sys\n",
        "sys.path.append(project_name)\n",
        "from IPython.display import YouTubeVideo\n",
        "\n",
        "# Download pre-trained Model\n",
        "def download_from_google_drive(file_id, file_name):\n",
        "  # download a file from the Google Drive link\n",
        "  !rm -f ./cookie\n",
        "  !curl -c ./cookie -s -L \"https://drive.google.com/uc?export=download&id={file_id}\" > /dev/null\n",
        "  confirm_text = !awk '/download/ {print $NF}' ./cookie\n",
        "  confirm_text = confirm_text[0]\n",
        "  !curl -Lb ./cookie \"https://drive.google.com/uc?export=download&confirm={confirm_text}&id={file_id}\" -o {file_name}\n",
        "  \n",
        "pretrained_model = 'SuperSloMo.ckpt'\n",
        "if not exists(pretrained_model):\n",
        "  download_from_google_drive('1IvobLDbRiBgZr3ryCRrWL8xDbMZ-KnpF', pretrained_model)"
      ],
      "execution_count": null,
      "outputs": []
    },
    {
      "cell_type": "markdown",
      "metadata": {
        "id": "95JShwLGB43D",
        "colab_type": "text"
      },
      "source": [
        "## Super SloMo on a Youtube Video"
      ]
    },
    {
      "cell_type": "code",
      "metadata": {
        "id": "tPAof_X3A6ZE",
        "colab_type": "code",
        "cellView": "form",
        "colab": {}
      },
      "source": [
        "#@markdown #### Example URL: https://www.youtube.com/watch?v=P3lXKxOkxbg\n",
        "YOUTUBE_ID = 'P3lXKxOkxbg' #@param{type:\"string\"}\n",
        "YouTubeVideo(YOUTUBE_ID)"
      ],
      "execution_count": null,
      "outputs": []
    },
    {
      "cell_type": "markdown",
      "metadata": {
        "id": "r24ETvupMcyz",
        "colab_type": "text"
      },
      "source": [
        "Info:\n",
        "0 fps means that the video path is wrong or you need to wait a bit for Google Drive to sync and try again."
      ]
    },
    {
      "cell_type": "code",
      "metadata": {
        "id": "pSDJTt6hMPHS",
        "colab_type": "code",
        "cellView": "form",
        "colab": {}
      },
      "source": [
        "%cd /content/\n",
        "!rm -df youtube.mp4\n",
        "# download the youtube with the given ID\n",
        "!youtube-dl -f 'bestvideo[ext=mp4]' --output \"youtube.%(ext)s\" https://www.youtube.com/watch?v=$YOUTUBE_ID\n",
        "\n",
        "# Detecting FPS of input file.\n",
        "import os\n",
        "import cv2\n",
        "cap = cv2.VideoCapture('/content/youtube.mp4')\n",
        "fps = cap.get(cv2.CAP_PROP_FPS)\n",
        "print(\"Detected FPS: \")\n",
        "print(fps)\n",
        "\n",
        "# Configure\n",
        "SLOW_MOTION_FACTOR = 3 #@param{type:\"number\"}\n",
        "# You can change the final FPS manually\n",
        "TARGET_FPS = fps*FPS_FACTOR\n",
        "#TARGET_FPS = 90\n",
        "print(\"Target FPS\")\n",
        "print(TARGET_FPS)"
      ],
      "execution_count": null,
      "outputs": []
    },
    {
      "cell_type": "code",
      "metadata": {
        "id": "kZEeOTvDGUE0",
        "colab_type": "code",
        "cellView": "form",
        "colab": {}
      },
      "source": [
        "#@markdown # Creating video with sound\n",
        "!python /content/Colab-Super-SloMo/video_to_slomo.py --ffmpeg {ffmpeg_path} --checkpoint /content/SuperSloMo.ckpt --video /content/youtube.mp4 --sf {SLOW_MOTION_FACTOR} --fps {TARGET_FPS} --output /content/output.mp4\n",
        "!youtube-dl -x --audio-format aac https://www.youtube.com/watch?v=$YOUTUBE_ID --output /content/output-audio.aac\n",
        "\n",
        "# Deleting old video, if it exists\n",
        "if os.path.exists(\"/content/output.mp4\"):\n",
        "    os.remove(\"/content/output.mp4\")\n",
        "\n",
        "# You can change these ffmpeg parameter\n",
        "%shell ffmpeg -y -r {TARGET_FPS} -f image2 -pattern_type glob -i '/content/Colab-Super-SloMo/tmp/*.png' -i /content/output-audio.aac -shortest -crf 18 /content/output.mp4"
      ],
      "execution_count": null,
      "outputs": []
    },
    {
      "cell_type": "code",
      "metadata": {
        "id": "fZwM0GtmA7mX",
        "colab_type": "code",
        "cellView": "form",
        "colab": {}
      },
      "source": [
        "#@markdown # Creating video without sound\n",
        "# Deleting old video, if it exists\n",
        "if os.path.exists(\"/content/output.mp4\"):\n",
        "    os.remove(\"/content/output.mp4\")\n",
        "\n",
        "!python /content/Colab-Super-SloMo/video_to_slomo.py --ffmpeg {ffmpeg_path} --checkpoint /content/SuperSloMo.ckpt --video /content/youtube.mp4 --sf {SLOW_MOTION_FACTOR} --fps {TARGET_FPS} --output /content/output.mkv\n",
        "\n",
        "# You can change these ffmpeg parameter\n",
        "%shell ffmpeg -y -r {TARGET_FPS} -f image2 -pattern_type glob -i '/content/Colab-Super-SloMo/tmp/*.png' -crf 18 /content/output.mp4"
      ],
      "execution_count": null,
      "outputs": []
    },
    {
      "cell_type": "markdown",
      "metadata": {
        "id": "I8tkTk-sG0fC",
        "colab_type": "text"
      },
      "source": [
        "Now you can playback the video with the last cell or copy the video back to Google Drive"
      ]
    },
    {
      "cell_type": "code",
      "metadata": {
        "id": "Ac_4XjW7CkVE",
        "colab_type": "code",
        "cellView": "form",
        "colab": {}
      },
      "source": [
        "#@markdown # [Optional] Copy video result to ```\"Google Drive/output.mp4\"```\n",
        "# Connect Google Drive\n",
        "from google.colab import drive\n",
        "drive.mount('/content/drive')\n",
        "print('Google Drive connected.')\n",
        "\n",
        "# Copy video back to Google Drive\n",
        "!cp /content/output.mp4 \"/content/drive/My Drive/output.mp4\""
      ],
      "execution_count": null,
      "outputs": []
    },
    {
      "cell_type": "markdown",
      "metadata": {
        "id": "GbRzS-MvWXlB",
        "colab_type": "text"
      },
      "source": [
        "## Super SloMo on a Google Drive Video\n",
        "\n",
        "The default input path is:\n",
        "```\"Google Drive/input.mp4\"```. You can change the path if you want. Just change the file extention if you got a different format."
      ]
    },
    {
      "cell_type": "code",
      "metadata": {
        "id": "waEQ0Yqc3apV",
        "colab_type": "code",
        "cellView": "form",
        "colab": {}
      },
      "source": [
        "#@markdown ## Mount Google Drive and configure paths\n",
        "# Connect Google Drive\n",
        "from google.colab import drive\n",
        "drive.mount('/content/drive')\n",
        "print('Google Drive connected.')\n",
        "\n",
        "# Configuration. \"My Drive\" represents your Google Drive.\n",
        "# Input file:\n",
        "INPUT_FILEPATH = \"/content/drive/My Drive/input.mp4\" #@param{type:\"string\"}\n",
        "# Output file path. MP4 is recommended. Another extention will need further code-changes.\n",
        "OUTPUT_FILE_PATH = \"/content/drive/My Drive/output.mp4\" #@param{type:\"string\"}"
      ],
      "execution_count": null,
      "outputs": []
    },
    {
      "cell_type": "markdown",
      "metadata": {
        "id": "Pv2ZbPt9CQBs",
        "colab_type": "text"
      },
      "source": [
        "Info:\n",
        "0 fps means that the video path is wrong or you need to wait a bit for Google Drive to sync and try again."
      ]
    },
    {
      "cell_type": "code",
      "metadata": {
        "id": "OeVAsTjOqstQ",
        "colab_type": "code",
        "cellView": "form",
        "colab": {}
      },
      "source": [
        "#@markdown ## [Experimental] Create Video with sound\n",
        "# Detecting FPS of input file.\n",
        "import os\n",
        "import cv2\n",
        "cap = cv2.VideoCapture(f'{INPUT_FILEPATH}')\n",
        "fps = cap.get(cv2.CAP_PROP_FPS)\n",
        "print(\"Detected FPS: \")\n",
        "print(fps)\n",
        "# Configure\n",
        "#@markdown ## Configuration\n",
        "SLOW_MOTION_FACTOR = 3 #@param{type:\"number\"}\n",
        "FPS_FACTOR = 3 #@param{type:\"number\"}\n",
        "# You can change the final FPS manually\n",
        "TARGET_FPS = fps*FPS_FACTOR\n",
        "#TARGET_FPS = 90\n",
        "print(\"Target FPS\")\n",
        "print(TARGET_FPS)\n",
        "# Copy video from Google Drive\n",
        "file_extention = os.path.splitext(INPUT_FILEPATH)[1]\n",
        "!cp '{INPUT_FILEPATH}' /content/input{file_extention}\n",
        "!python /content/Colab-Super-SloMo/video_to_slomo.py --ffmpeg {ffmpeg_path} --checkpoint /content/SuperSloMo.ckpt --video /content/input{file_extention} --sf {SLOW_MOTION_FACTOR}\n",
        "%shell ffmpeg -i /content/input{file_extention} -acodec copy /content/output-audio.aac\n",
        "# Deleting old video, if it exists\n",
        "if os.path.exists(\"/content/output.mp4\"):\n",
        "    os.remove(\"/content/output.mp4\")\n",
        "# You can change these ffmpeg parameter\n",
        "%shell ffmpeg -y -r {TARGET_FPS} -f image2 -pattern_type glob -i '/content/Colab-Super-SloMo/tmp/*.png' -i /content/output-audio.aac -shortest -crf 18 /content/output.mp4\n",
        "# Copy video back to Google Drive\n",
        "!cp /content/output.mp4 '{OUTPUT_FILE_PATH}'"
      ],
      "execution_count": null,
      "outputs": []
    },
    {
      "cell_type": "code",
      "metadata": {
        "id": "L18CmdDIW1oC",
        "colab_type": "code",
        "cellView": "form",
        "colab": {}
      },
      "source": [
        "#@markdown ## Create video without sound\n",
        "# Detecting FPS of input file.\n",
        "import os\n",
        "import cv2\n",
        "cap = cv2.VideoCapture(f'{INPUT_FILEPATH}')\n",
        "fps = cap.get(cv2.CAP_PROP_FPS)\n",
        "print(\"Detected FPS: \")\n",
        "print(fps)\n",
        "#@markdown ## Configuration\n",
        "SLOW_MOTION_FACTOR = 3 #@param{type:\"number\"}\n",
        "FPS_FACTOR = 3 #@param{type:\"number\"}\n",
        "# You can change the final FPS manually\n",
        "TARGET_FPS = fps*FPS_FACTOR\n",
        "#TARGET_FPS = 90\n",
        "print(\"Target FPS\")\n",
        "print(TARGET_FPS)\n",
        "# Copy video from Google Drive\n",
        "file_extention = os.path.splitext(INPUT_FILEPATH)[1]\n",
        "!cp '{INPUT_FILEPATH}' /content/input{file_extention}\n",
        "!cd '{project_name}' && python video_to_slomo.py --ffmpeg {ffmpeg_path} --checkpoint ../{pretrained_model} --video /content/input{file_extention} --sf {SLOW_MOTION_FACTOR}\n",
        "# Deleting old video, if it exists\n",
        "if os.path.exists(\"/content/output.mp4\"):\n",
        "    os.remove(\"/content/output.mp4\")\n",
        "# You can change these ffmpeg parameter\n",
        "%shell ffmpeg -y -r {TARGET_FPS} -f image2 -pattern_type glob -i '/content/Colab-Super-SloMo/tmp/*.png' -crf 18 /content/output.mp4\n",
        "# Copy video back to Google Drive\n",
        "!cp /content/output.mp4 '{OUTPUT_FILE_PATH}'"
      ],
      "execution_count": null,
      "outputs": []
    },
    {
      "cell_type": "code",
      "metadata": {
        "id": "8sZKqPM1sCJo",
        "colab_type": "code",
        "cellView": "form",
        "colab": {}
      },
      "source": [
        "#@markdown ## [Experimental] Create video with sound and removed duplicate frames\n",
        "import cv2\n",
        "file_extention = os.path.splitext(INPUT_FILEPATH)[1]\n",
        "!cp '{INPUT_FILEPATH}' /content/input{file_extention}\n",
        "# Get amount frames\n",
        "cap = cv2.VideoCapture(\"/content/input.mp4\")\n",
        "length = int(cap.get(cv2.CAP_PROP_FRAME_COUNT))\n",
        "# Detecting FPS of input file.\n",
        "import os\n",
        "import cv2\n",
        "cap = cv2.VideoCapture('/content/input.mp4')\n",
        "fps = cap.get(cv2.CAP_PROP_FPS)\n",
        "print(\"Detected FPS: \")\n",
        "print(fps)\n",
        "# Deleting old video, if it exists\n",
        "if os.path.exists(\"/content/output.mp4\"):\n",
        "    os.remove(\"/content/output.mp4\")\n",
        "# Configure\n",
        "SLOW_MOTION_FACTOR = 6 #@param{type:\"number\"}\n",
        "FPS_FACTOR = 6 #@param{type:\"number\"}\n",
        "TARGET_FPS = fps*FPS_FACTOR\n",
        "!python /content/Colab-Super-SloMo/video_to_slomo.py --ffmpeg {ffmpeg_path} --checkpoint /content/SuperSloMo.ckpt --video /content/input.mp4 --sf {SLOW_MOTION_FACTOR} --remove_duplicate True\n",
        "%shell ffmpeg -i /content/input{file_extention} -acodec copy /content/output-audio.aac\n",
        "amount_files_created = len(os.listdir(('/content/Colab-Super-SloMo/tmp')))\n",
        "# You can change these ffmpeg parameter\n",
        "%shell ffmpeg -y -r {TARGET_FPS} -f image2 -pattern_type glob -i '/content/Colab-Super-SloMo/tmp/*.png' -i /content/output-audio.aac -shortest -crf 18 /content/output.mp4\n",
        "# Copy video back to Google Drive\n",
        "!cp /content/output.mp4 '{OUTPUT_FILE_PATH}'"
      ],
      "execution_count": null,
      "outputs": []
    },
    {
      "cell_type": "code",
      "metadata": {
        "id": "dhe61tGbsBIz",
        "colab_type": "code",
        "cellView": "form",
        "colab": {}
      },
      "source": [
        "#@markdown ## Create video without sound and removed duplicate frames\n",
        "import cv2\n",
        "file_extention = os.path.splitext(INPUT_FILEPATH)[1]\n",
        "!cp '{INPUT_FILEPATH}' /content/input{file_extention}\n",
        "# Get amount frames\n",
        "cap = cv2.VideoCapture(\"/content/input.mp4\")\n",
        "length = int(cap.get(cv2.CAP_PROP_FRAME_COUNT))\n",
        "# Detecting FPS of input file.\n",
        "import os\n",
        "import cv2\n",
        "cap = cv2.VideoCapture('/content/input.mp4')\n",
        "fps = cap.get(cv2.CAP_PROP_FPS)\n",
        "print(\"Detected FPS: \")\n",
        "print(fps)\n",
        "# Deleting old video, if it exists\n",
        "if os.path.exists(\"/content/output.mp4\"):\n",
        "    os.remove(\"/content/output.mp4\")\n",
        "# Configure\n",
        "SLOW_MOTION_FACTOR = 6 #@param{type:\"number\"}\n",
        "FPS_FACTOR = 6 #@param{type:\"number\"}\n",
        "TARGET_FPS = fps*FPS_FACTOR\n",
        "!python /content/Colab-Super-SloMo/video_to_slomo.py --ffmpeg {ffmpeg_path} --checkpoint /content/SuperSloMo.ckpt --video /content/input.mp4 --sf {SLOW_MOTION_FACTOR} --remove_duplicate True\n",
        "amount_files_created = len(os.listdir(('/content/Colab-Super-SloMo/tmp')))\n",
        "# You can change these ffmpeg parameter\n",
        "%shell ffmpeg -y -r {amount_files_created/(length/fps)} -f image2 -pattern_type glob -i '/content/Colab-Super-SloMo/tmp/*.png' -crf 18 /content/output.mp4\n",
        "# Copy video back to Google Drive\n",
        "!cp /content/output.mp4 '{OUTPUT_FILE_PATH}'"
      ],
      "execution_count": null,
      "outputs": []
    },
    {
      "cell_type": "code",
      "metadata": {
        "id": "s0fRYO0UWcH9",
        "colab_type": "code",
        "cellView": "form",
        "colab": {}
      },
      "source": [
        "#@markdown ## Preview the result within Colab\n",
        "#@markdown #### Don't try this with big files. It will crash Colab. Small files like 10mb are ok.\n",
        "def show_local_mp4_video(file_name, width=640, height=480):\n",
        "  import io\n",
        "  import base64\n",
        "  from IPython.display import HTML\n",
        "  video_encoded = base64.b64encode(io.open(file_name, 'rb').read())\n",
        "  return HTML(data='''<video width=\"{0}\" height=\"{1}\" alt=\"test\" controls>\n",
        "                        <source src=\"data:video/mp4;base64,{2}\" type=\"video/mp4\" />\n",
        "                      </video>'''.format(width, height, video_encoded.decode('ascii')))\n",
        "\n",
        "show_local_mp4_video('/content/output.mp4', width=960, height=720)"
      ],
      "execution_count": null,
      "outputs": []
    }
  ]
}
